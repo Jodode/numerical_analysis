{
 "cells": [
  {
   "cell_type": "code",
   "execution_count": 1,
   "id": "019e7701",
   "metadata": {},
   "outputs": [],
   "source": [
    "import numpy as np"
   ]
  },
  {
   "cell_type": "markdown",
   "id": "db29f4cf",
   "metadata": {},
   "source": [
    "## Метод Ньютона"
   ]
  },
  {
   "cell_type": "code",
   "execution_count": 2,
   "id": "a123fe48",
   "metadata": {},
   "outputs": [],
   "source": [
    "def calc_deriv(f):\n",
    "    return f[:-1] * np.arange(len(f) - 1, 0, -1)\n",
    "\n",
    "def newton_method(x0, eps, f):\n",
    "    k = 1\n",
    "    \n",
    "    xk = x0\n",
    "    xk_next = xk - (np.poly1d(f)(xk) / np.poly1d(calc_deriv(f))(xk)) \n",
    "    \n",
    "    while abs(xk_next - xk) > eps:\n",
    "        xk = xk_next\n",
    "        xk_next = xk - (np.poly1d(f)(xk) / np.poly1d(calc_deriv(f))(xk))\n",
    "        k += 1\n",
    "    \n",
    "    return {'x': xk_next, 'depth': k}\n",
    "\n",
    "def solve_with_newton(eps, f):\n",
    "    for x in sorted(f, reverse=True):\n",
    "        response = newton_method(x, eps, f)\n",
    "        if np.isclose(np.poly1d(f)(response['x']), 0., atol=eps):\n",
    "            yield response | {'x0' : x}"
   ]
  },
  {
   "cell_type": "markdown",
   "id": "d029a086",
   "metadata": {},
   "source": [
    "## Упрощенный метод Ньютона"
   ]
  },
  {
   "cell_type": "code",
   "execution_count": 3,
   "id": "11fc402f",
   "metadata": {},
   "outputs": [],
   "source": [
    "def simplify_newton_method(x0, eps, f):\n",
    "    k = 1\n",
    "    \n",
    "    xk = x0\n",
    "    f0_deriv = np.poly1d(calc_deriv(f))\n",
    "    xk_next = xk - (np.poly1d(f)(xk) / f0_deriv(x0))\n",
    "    \n",
    "    func = np.poly1d(f)\n",
    "    \n",
    "    while abs(func(xk_next)) > eps:\n",
    "        xk = xk_next\n",
    "        xk_next = xk - (func(xk) / f0_deriv(x0))\n",
    "        k += 1\n",
    "        \n",
    "    return {'x': xk_next, 'depth': k}\n",
    "\n",
    "def solve_with_simplified_newton(eps, f):\n",
    "    for x in sorted(f, reverse=True):\n",
    "        response = simplify_newton_method(x, eps, f)\n",
    "        if np.isclose(np.poly1d(f)(response['x']), 0., atol=eps):\n",
    "            yield response | {'x0' : x}\n"
   ]
  },
  {
   "cell_type": "markdown",
   "id": "cecbe010",
   "metadata": {},
   "source": [
    "## Метод Ньютона-Бройдена"
   ]
  },
  {
   "cell_type": "code",
   "execution_count": 4,
   "id": "6fcdd788",
   "metadata": {},
   "outputs": [],
   "source": [
    "def newton_broyden_method(x0, eps, f):\n",
    "    k = 1\n",
    "    ck = 1\n",
    "    \n",
    "    xk = x0\n",
    "    xk_next = xk - ck * (np.poly1d(f)(xk) / np.poly1d(calc_deriv(f))(xk))\n",
    "    \n",
    "    delta = abs(xk_next - xk)\n",
    "    while delta > eps:\n",
    "        if abs(np.poly1d(f)(xk)) >  abs(np.poly1d(f)(xk_next)):\n",
    "            ck = 0.9\n",
    "        else:\n",
    "            ck = 1.2\n",
    "        xk = xk_next\n",
    "        xk_next = xk - ck * (np.poly1d(f)(xk) / np.poly1d(calc_deriv(f))(xk))\n",
    "#         if abs(xk_next - xk) / delta > 0.5:\n",
    "#             ck = 2\n",
    "#         elif abs(np.poly1d(f)(xk)) > abs():\n",
    "#             ck = 1\n",
    "#         else:\n",
    "#             ck = 0.7\n",
    "        delta = abs(xk_next - xk)\n",
    "        k += 1\n",
    "        \n",
    "    return {'x': xk_next, 'depth': k}"
   ]
  },
  {
   "cell_type": "markdown",
   "id": "82bf28c7",
   "metadata": {},
   "source": [
    "## Метод секущих"
   ]
  },
  {
   "cell_type": "markdown",
   "id": "97c50361",
   "metadata": {},
   "source": [
    "$$ x^{(k+1)} = x^{(k)} - \\frac{f(x^{(k)})}{f(x^{(k)}) - f(x^{(k-1)})}\\cdot(x^{(k)} - x^{(k-1)}) $$"
   ]
  },
  {
   "cell_type": "code",
   "execution_count": 5,
   "id": "4a095ac9",
   "metadata": {},
   "outputs": [],
   "source": [
    "def secant_method(x0, eps, delta, f):\n",
    "    k = 1\n",
    "    func = np.poly1d(f)\n",
    "    \n",
    "    xk_prev = x0\n",
    "    xk = x0 - (func(x0) / ((func(x0) - func(x0 - delta)) / delta))\n",
    "    xk_next = xk - (func(xk) / (func(xk) - func(xk_prev))) * (xk - xk_prev)\n",
    "    \n",
    "    while abs(xk_next - xk) > eps:\n",
    "        xk_prev = xk\n",
    "        xk = xk_next\n",
    "        xk_next = xk - (func(xk) / (func(xk) - func(xk_prev))) * (xk - xk_prev)\n",
    "        \n",
    "        k += 1\n",
    "    \n",
    "    return {'x': xk_next, 'depth': k}"
   ]
  },
  {
   "cell_type": "markdown",
   "id": "55008433",
   "metadata": {},
   "source": [
    "### Пример работы\n",
    "$$ 3x^4 - 4x^3 - 8x^2 + 10x - 7 = 0 $$"
   ]
  },
  {
   "cell_type": "code",
   "execution_count": 6,
   "id": "77a3ddf6",
   "metadata": {},
   "outputs": [
    {
     "name": "stdout",
     "output_type": "stream",
     "text": [
      "Метод Ньютона: x = 2.0994, x0 = 3, количество итераций = 5\n",
      "Упрощённый метод Ньютона: x = 2.0994, x0 = 10, количество итераций = 2997\n",
      "Метод Ньютона-Бройдена: x = 2.0995, x0 = 3, количество итераций = 6\n",
      "Метод секущих: x = 2.0994, x0 = 10, количество итераций = 12\n"
     ]
    }
   ],
   "source": [
    "eps = 1e-3\n",
    "delta = 1e-1\n",
    "coeff = np.array([3, -4, -8, 10, -7])\n",
    "response = list(solve_with_newton(eps, coeff))[1]\n",
    "print(f\"Метод Ньютона: x = {round(response['x'], 4)}, x0 = {response['x0']}, количество итераций = {response['depth']}\")\n",
    "response = list(solve_with_simplified_newton(eps, coeff))[0]\n",
    "print(f\"Упрощённый метод Ньютона: x = {round(response['x'], 4)}, x0 = {response['x0']}, количество итераций = {response['depth']}\")\n",
    "x0 = 3\n",
    "response = newton_broyden_method(x0, eps, coeff)\n",
    "print(f\"Метод Ньютона-Бройдена: x = {round(response['x'], 4)}, x0 = {x0}, количество итераций = {response['depth']}\")\n",
    "x0 = 10\n",
    "response = newton_broyden_method(x0, eps, coeff)\n",
    "print(f\"Метод секущих: x = {round(response['x'], 4)}, x0 = {x0}, количество итераций = {response['depth']}\")"
   ]
  },
  {
   "cell_type": "code",
   "execution_count": null,
   "id": "c701bfd4",
   "metadata": {},
   "outputs": [],
   "source": []
  }
 ],
 "metadata": {
  "kernelspec": {
   "display_name": "Python 3 (ipykernel)",
   "language": "python",
   "name": "python3"
  },
  "language_info": {
   "codemirror_mode": {
    "name": "ipython",
    "version": 3
   },
   "file_extension": ".py",
   "mimetype": "text/x-python",
   "name": "python",
   "nbconvert_exporter": "python",
   "pygments_lexer": "ipython3",
   "version": "3.9.10"
  }
 },
 "nbformat": 4,
 "nbformat_minor": 5
}
