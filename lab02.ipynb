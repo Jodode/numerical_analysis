{
 "cells": [
  {
   "cell_type": "code",
   "execution_count": 1,
   "id": "019e7701",
   "metadata": {},
   "outputs": [],
   "source": [
    "import numpy as np"
   ]
  },
  {
   "cell_type": "markdown",
   "id": "db29f4cf",
   "metadata": {},
   "source": [
    "## Метод Ньютона"
   ]
  },
  {
   "cell_type": "code",
   "execution_count": 2,
   "id": "a123fe48",
   "metadata": {},
   "outputs": [],
   "source": [
    "def calc_deriv(f):\n",
    "    return f[:-1] * np.arange(len(f) - 1, 0, -1)\n",
    "\n",
    "def newton_method(x0, eps, f):\n",
    "    k = 1\n",
    "    \n",
    "    xk = x0\n",
    "    xk_next = xk - (np.poly1d(f)(xk) / np.poly1d(calc_deriv(f))(xk)) \n",
    "    \n",
    "    while abs(xk_next - xk) > eps:\n",
    "        xk = xk_next\n",
    "        xk_next = xk - (np.poly1d(f)(xk) / np.poly1d(calc_deriv(f))(xk))\n",
    "        k += 1\n",
    "    \n",
    "    return {'x': xk_next, 'depth': k}\n",
    "\n",
    "def solve_with_newton(eps, f):\n",
    "    for x in sorted(f, reverse=True):\n",
    "        response = newton_method(x, eps, f)\n",
    "        if np.isclose(np.poly1d(f)(response['x']), 0., atol=eps):\n",
    "            yield response | {'x0' : x}"
   ]
  },
  {
   "cell_type": "markdown",
   "id": "d029a086",
   "metadata": {},
   "source": [
    "## Упрощенный метод Ньютона"
   ]
  },
  {
   "cell_type": "code",
   "execution_count": 3,
   "id": "11fc402f",
   "metadata": {},
   "outputs": [],
   "source": [
    "def simplify_newton_method(x0, eps, f):\n",
    "    k = 1\n",
    "    \n",
    "    xk = x0\n",
    "    f0_deriv = np.poly1d(calc_deriv(f))\n",
    "    xk_next = xk - (np.poly1d(f)(xk) / f0_deriv(x0))\n",
    "    \n",
    "    func = np.poly1d(f)\n",
    "    \n",
    "    while abs(func(xk_next)) > eps:\n",
    "        xk = xk_next\n",
    "        xk_next = xk - (func(xk) / f0_deriv(x0))\n",
    "        k += 1\n",
    "        \n",
    "    return {'x': xk_next, 'depth': k}\n",
    "\n",
    "def solve_with_simplified_newton(eps, f):\n",
    "    for x in sorted(f, reverse=True):\n",
    "        response = simplify_newton_method(x, eps, f)\n",
    "        if np.isclose(np.poly1d(f)(response['x']), 0., atol=eps):\n",
    "            yield response | {'x0' : x}\n"
   ]
  },
  {
   "cell_type": "markdown",
   "id": "cecbe010",
   "metadata": {},
   "source": [
    "## Метод Ньютона-Бройдена"
   ]
  },
  {
   "cell_type": "code",
   "execution_count": 4,
   "id": "6fcdd788",
   "metadata": {},
   "outputs": [],
   "source": [
    "def newton_broyden_method(x0, eps, f):\n",
    "    k = 1\n",
    "    ck = 1\n",
    "    \n",
    "    xk = x0\n",
    "    xk_next = xk - ck * (np.poly1d(f)(xk) / np.poly1d(calc_deriv(f))(xk))\n",
    "    \n",
    "    delta = abs(xk_next - xk)\n",
    "    while delta > eps:\n",
    "        if abs(np.poly1d(f)(xk)) >  abs(np.poly1d(f)(xk_next)):\n",
    "            ck = 0.9\n",
    "        else:\n",
    "            ck = 1.2\n",
    "        xk = xk_next\n",
    "        xk_next = xk - ck * (np.poly1d(f)(xk) / np.poly1d(calc_deriv(f))(xk))\n",
    "#         if abs(xk_next - xk) / delta > 0.5:\n",
    "#             ck = 2\n",
    "#         elif abs(np.poly1d(f)(xk)) > abs():\n",
    "#             ck = 1\n",
    "#         else:\n",
    "#             ck = 0.7\n",
    "        delta = abs(xk_next - xk)\n",
    "        k += 1\n",
    "        \n",
    "    return {'x': xk_next, 'depth': k}"
   ]
  },
  {
   "cell_type": "markdown",
   "id": "82bf28c7",
   "metadata": {},
   "source": [
    "## Метод секущих"
   ]
  },
  {
   "cell_type": "markdown",
   "id": "97c50361",
   "metadata": {},
   "source": [
    "$$ x^{(k+1)} = x^{(k)} - \\frac{f(x^{(k)})}{f(x^{(k)}) - f(x^{(k-1)})}\\cdot(x^{(k)} - x^{(k-1)}) $$"
   ]
  },
  {
   "cell_type": "code",
   "execution_count": 5,
   "id": "4a095ac9",
   "metadata": {},
   "outputs": [],
   "source": [
    "def secant_method(x0, eps, delta, f):\n",
    "    k = 1\n",
    "    func = np.poly1d(f)\n",
    "    \n",
    "    xk_prev = x0\n",
    "    xk = x0 - (func(x0) / ((func(x0) - func(x0 - delta)) / delta))\n",
    "    xk_next = xk - (func(xk) / (func(xk) - func(xk_prev))) * (xk - xk_prev)\n",
    "    \n",
    "    while abs(xk_next - xk) > eps:\n",
    "        xk_prev = xk\n",
    "        xk = xk_next\n",
    "        xk_next = xk - (func(xk) / (func(xk) - func(xk_prev))) * (xk - xk_prev)\n",
    "        \n",
    "        k += 1\n",
    "    \n",
    "    return {'x': xk_next, 'depth': k}"
   ]
  },
  {
   "cell_type": "markdown",
   "id": "55008433",
   "metadata": {},
   "source": [
    "### Пример работы\n",
    "$$ 3x^4 - 4x^3 - 8x^2 + 10x - 7 = 0 $$"
   ]
  },
  {
   "cell_type": "code",
   "execution_count": 6,
   "id": "77a3ddf6",
   "metadata": {},
   "outputs": [
    {
     "name": "stdout",
     "output_type": "stream",
     "text": [
      "Метод Ньютона: x = 2.0994, x0 = 3, количество итераций = 5\n",
      "Упрощённый метод Ньютона: x = 2.0994, x0 = 10, количество итераций = 2997\n",
      "Метод Ньютона-Бройдена: x = 2.0995, x0 = 3, количество итераций = 6\n",
      "Метод секущих: x = 2.0994, x0 = 10, количество итераций = 12\n"
     ]
    }
   ],
   "source": [
    "eps = 1e-3\n",
    "delta = 1e-1\n",
    "coeff = np.array([3, -4, -8, 10, -7])\n",
    "response = list(solve_with_newton(eps, coeff))[1]\n",
    "print(f\"Метод Ньютона: x = {round(response['x'], 4)}, x0 = {response['x0']}, количество итераций = {response['depth']}\")\n",
    "response = list(solve_with_simplified_newton(eps, coeff))[0]\n",
    "print(f\"Упрощённый метод Ньютона: x = {round(response['x'], 4)}, x0 = {response['x0']}, количество итераций = {response['depth']}\")\n",
    "x0 = 3\n",
    "response = newton_broyden_method(x0, eps, coeff)\n",
    "print(f\"Метод Ньютона-Бройдена: x = {round(response['x'], 4)}, x0 = {x0}, количество итераций = {response['depth']}\")\n",
    "x0 = 10\n",
    "response = newton_broyden_method(x0, eps, coeff)\n",
    "print(f\"Метод секущих: x = {round(response['x'], 4)}, x0 = {x0}, количество итераций = {response['depth']}\")"
   ]
  },
  {
   "cell_type": "markdown",
   "id": "d70fbab4",
   "metadata": {},
   "source": [
    "### Теоремы"
   ]
  },
  {
   "cell_type": "markdown",
   "id": "a19f990d",
   "metadata": {},
   "source": [
    "#### Об оценке модулей корней уравнения"
   ]
  },
  {
   "cell_type": "code",
   "execution_count": 7,
   "id": "db6c2448",
   "metadata": {},
   "outputs": [],
   "source": [
    "def est_modulus(coeffs: np.array):\n",
    "    A = np.max(coeffs)\n",
    "    B = np.max(coeffs[:-1])\n",
    "    \n",
    "    return (1 / (1 + B / coeffs[-1]), 1 + A / coeffs[0])"
   ]
  },
  {
   "cell_type": "markdown",
   "id": "28973b25",
   "metadata": {},
   "source": [
    "#### теорема Лагранжа о верхней границе положительных корней уравнения"
   ]
  },
  {
   "cell_type": "code",
   "execution_count": 8,
   "id": "a2f28912",
   "metadata": {},
   "outputs": [],
   "source": [
    "def lagrange_sup(coeffs: np.array):\n",
    "    if coeffs[0] < 0:\n",
    "        return None\n",
    "    return 1 + np.power(np.abs(np.min(coeffs[coeffs < 0])) / coeffs[0], 1 / (len(coeffs) - 1))"
   ]
  },
  {
   "cell_type": "markdown",
   "id": "979eaf8e",
   "metadata": {},
   "source": [
    "#### о нижних и верхних границах положетельных и отрицательных корней алгебраического уравнения"
   ]
  },
  {
   "cell_type": "code",
   "execution_count": 9,
   "id": "f6182b70",
   "metadata": {},
   "outputs": [],
   "source": [
    "def sup_and_inf(coeffs: np.array):\n",
    "    def negative_transform(polynom: np.array):\n",
    "        n = len(polynom)\n",
    "        return np.array([polynom[n - i - 1] if i % 2 == 0 else -polynom[n - i - 1] for i in range(n - 1, -1, -1)])\n",
    "    \n",
    "    R = lagrange_sup(coeffs)\n",
    "    R1 = lagrange_sup(coeffs[::-1])\n",
    "    R2 = lagrange_sup(negative_transform(coeffs))\n",
    "    R3 = lagrange_sup(negative_transform(coeffs)[::-1])\n",
    "    if None not in (R, R1, R2, R3):\n",
    "        return {\"x+\": (1 / R1, R), \"x-\": (-R2, -1 / R3)}\n",
    "    else:\n",
    "        return None"
   ]
  },
  {
   "cell_type": "markdown",
   "id": "09424fb2",
   "metadata": {},
   "source": [
    "#### теорема Декарта о количестве действительных корней алгебраических уравнений"
   ]
  },
  {
   "cell_type": "code",
   "execution_count": 10,
   "id": "1b6a42a1",
   "metadata": {},
   "outputs": [],
   "source": [
    "def descartes_count(coeff: np.array):\n",
    "    def negative_transform(polynom: np.array):\n",
    "        n = len(polynom)\n",
    "        return np.array([polynom[n - i - 1] if i % 2 == 0 else -polynom[n - i - 1] for i in range(n - 1, -1, -1)])\n",
    "    \n",
    "    count_positive = 0\n",
    "    for i in range(len(coeff) - 1):\n",
    "        if coeff[i] * coeff[i+1] < 0:\n",
    "            count_positive += 1\n",
    "    \n",
    "    count_negative = 0\n",
    "    coeff_transformed = negative_transform(coeff)\n",
    "    for i in range(len(coeff_transformed) - 1):\n",
    "        if coeff_transformed[i] * coeff_transformed[i+1] < 0:\n",
    "            count_negative += 1\n",
    "    \n",
    "    return {\"S1\": count_positive, \"S2\": count_negative}"
   ]
  },
  {
   "cell_type": "markdown",
   "id": "d3283bad",
   "metadata": {},
   "source": [
    "#### теорема Гюа о необходимом условии действительности всех корней алгебраического уравнения"
   ]
  },
  {
   "cell_type": "code",
   "execution_count": 11,
   "id": "f85f4660",
   "metadata": {},
   "outputs": [],
   "source": [
    "def is_real_roots(coeff: np.array):\n",
    "    for i in range(1, len(coeff)-1):\n",
    "        if coeff[i] ** 2 <= coeff[i-1] * coeff[i+1]:\n",
    "            return False\n",
    "    return True"
   ]
  },
  {
   "cell_type": "markdown",
   "id": "2e3d617a",
   "metadata": {},
   "source": [
    "#### теорема для отделения корней"
   ]
  },
  {
   "cell_type": "code",
   "execution_count": 12,
   "id": "3fd23d5e",
   "metadata": {},
   "outputs": [],
   "source": [
    "def selection_interval(coeff: np.array, a=None, b=None):\n",
    "    f = np.poly1d(coeff)\n",
    "    \n",
    "    if None not in [a, b]:\n",
    "        if f(a) * f(b) < 0:\n",
    "            return True\n",
    "        else:\n",
    "            return False\n",
    "        \n",
    "    for i in range(100):\n",
    "        a, b = np.random.randint(np.min(coeff), np.max(coeff), 2)\n",
    "        if f(a) * f(b) < 0:\n",
    "            return a, b"
   ]
  },
  {
   "cell_type": "markdown",
   "id": "b2b260ef",
   "metadata": {},
   "source": [
    "### Пример работы\n",
    "$$ 3x^4 - 4x^3 - 8x^2 + 10x + 7 = 0 $$"
   ]
  },
  {
   "cell_type": "code",
   "execution_count": 13,
   "id": "256f2b30",
   "metadata": {},
   "outputs": [
    {
     "name": "stdout",
     "output_type": "stream",
     "text": [
      "Теорема 3.3: 0.412 < |x| <= 4.333\n",
      "Теорема 3.4: R = 2.278\n",
      "Теорема 3.5: 0.492 <= x+ <= 2.278  -2.351 <= x- <= -0.478\n",
      "Теорема 3.6: S1 = 2, S2 = 2\n",
      "Теорема 3.7: Все корни действительные? - True\n",
      "Теорема 3.8: Минимум один корень находиться на промежутке [-3, -1]\n"
     ]
    }
   ],
   "source": [
    "coeff = np.array([3, -4, -8, 10, 7])\n",
    "response = est_modulus(coeff)\n",
    "print(f'Теорема 3.3: {np.round(response[0], 3)} < |x| <= {np.round(response[1], 3)}')\n",
    "print(f'Теорема 3.4: R = {np.round(lagrange_sup(coeff), 3)}')\n",
    "response = sup_and_inf(coeff)\n",
    "print(f'Теорема 3.5: {np.round(response[\"x+\"][0], 3)} <= x+ <= {np.round(response[\"x+\"][1], 3)}  {np.round(response[\"x-\"][0], 3)} <= x- <= {np.round(response[\"x-\"][1], 3)}')\n",
    "response = descartes_count(coeff)\n",
    "print(f'Теорема 3.6: S1 = {response[\"S1\"]}, S2 = {response[\"S2\"]}')\n",
    "print(f'Теорема 3.7: Все корни действительные? - {is_real_roots(coeff)}')\n",
    "response = selection_interval(coeff)\n",
    "print(f'Теорема 3.8: Минимум один корень находиться на промежутке [{response[0]}, {response[1]}]')"
   ]
  },
  {
   "cell_type": "code",
   "execution_count": null,
   "id": "97cc8a6f",
   "metadata": {},
   "outputs": [],
   "source": []
  }
 ],
 "metadata": {
  "kernelspec": {
   "display_name": "Python 3 (ipykernel)",
   "language": "python",
   "name": "python3"
  },
  "language_info": {
   "codemirror_mode": {
    "name": "ipython",
    "version": 3
   },
   "file_extension": ".py",
   "mimetype": "text/x-python",
   "name": "python",
   "nbconvert_exporter": "python",
   "pygments_lexer": "ipython3",
   "version": "3.9.10"
  }
 },
 "nbformat": 4,
 "nbformat_minor": 5
}
