{
 "cells": [
  {
   "cell_type": "code",
   "execution_count": 1,
   "id": "f4c477cf",
   "metadata": {},
   "outputs": [],
   "source": [
    "import numpy as np"
   ]
  },
  {
   "cell_type": "code",
   "execution_count": 2,
   "id": "2190602f",
   "metadata": {},
   "outputs": [],
   "source": [
    "def iter_method(A, eps=0.01):\n",
    "    X0 = np.ones((3, 1))\n",
    "    X_prev = np.dot(A, X0)\n",
    "    X_cur = np.dot(A, X_prev)\n",
    "    \n",
    "    l_prev, l_cur = X_prev[0]/X0[0], X_cur[0]/X_prev[0]\n",
    "    while abs(l_cur - l_prev) > eps:\n",
    "        X_prev = X_cur\n",
    "        X_cur = np.dot(A, X_prev)\n",
    "        \n",
    "        l_prev = l_cur\n",
    "        l_cur = X_cur[0]/X_prev[0]\n",
    "        \n",
    "    return {\"L\": np.mean(X_cur/X_prev), \"X1\": X_cur/np.max(X_cur)}"
   ]
  },
  {
   "cell_type": "code",
   "execution_count": 3,
   "id": "2b168391",
   "metadata": {},
   "outputs": [],
   "source": [
    "def rotation_method(A, eps=0.001):\n",
    "    n = A.shape[0]\n",
    "    V = np.eye(n)\n",
    "    max_val = -np.inf\n",
    "    while max_val > eps:\n",
    "        \n",
    "        p, q = 0, 0\n",
    "\n",
    "        for i in range(n):\n",
    "            for j in range(i+1, n):\n",
    "                if abs(A[i, j]) > max_val:\n",
    "                    max_val = abs(A[i, j])\n",
    "                    p, q = i, j\n",
    "\n",
    "        d = np.sqrt((A[p, p] - A[q, q])**2 + 4 * A[p, q]**2)\n",
    "        c = np.sqrt(0.5 * (1 + abs(A[p, p] - A[q, q]) / d))\n",
    "        s = np.sign(A[p, q] * (A[p, p] - A[q, q])) * np.sqrt(0.5 * (1 - abs(A[p, p] - A[q, q]) / d))\n",
    "\n",
    "        R = np.eye(n)\n",
    "        R[p, p] = c\n",
    "        R[q, q] = c\n",
    "        R[p, q] = s\n",
    "        R[q, p] = -s\n",
    "\n",
    "        A = R.T @ A @ R\n",
    "        V = V @ R\n",
    "\n",
    "    eigvals = np.diag(A)\n",
    "    eigvecs = V\n",
    "\n",
    "    return {\"L\": eigvals, \"X\": eigvecs}"
   ]
  },
  {
   "cell_type": "markdown",
   "id": "24cb8828",
   "metadata": {},
   "source": [
    "#### Метод итераций"
   ]
  },
  {
   "cell_type": "code",
   "execution_count": 4,
   "id": "9052a7a9",
   "metadata": {},
   "outputs": [
    {
     "data": {
      "text/plain": [
       "{'L': 2.3333559153624766,\n",
       " 'X1': array([[ 1.00000000e+00],\n",
       "        [-9.99977420e-01],\n",
       "        [ 1.12899948e-05]])}"
      ]
     },
     "execution_count": 4,
     "metadata": {},
     "output_type": "execute_result"
    }
   ],
   "source": [
    "A = np.array([[2, -1, 1], [-1, 2, -1], [0, 0, 1]])\n",
    "eps = 0.0001\n",
    "iter_method(A, eps)"
   ]
  },
  {
   "cell_type": "code",
   "execution_count": 5,
   "id": "ba09705b",
   "metadata": {},
   "outputs": [
    {
     "data": {
      "text/plain": [
       "{'L': array([5, 4, 3]),\n",
       " 'X': array([[1., 0., 0.],\n",
       "        [0., 1., 0.],\n",
       "        [0., 0., 1.]])}"
      ]
     },
     "execution_count": 5,
     "metadata": {},
     "output_type": "execute_result"
    }
   ],
   "source": [
    "A = np.array([[5, 1, 2], [1, 4, 1], [2, 1, 3]])\n",
    "eps = 1e-10\n",
    "rotation_method(A, eps)"
   ]
  },
  {
   "cell_type": "code",
   "execution_count": null,
   "id": "459dfdab",
   "metadata": {},
   "outputs": [],
   "source": []
  },
  {
   "cell_type": "code",
   "execution_count": null,
   "id": "00cf1297",
   "metadata": {},
   "outputs": [],
   "source": []
  }
 ],
 "metadata": {
  "kernelspec": {
   "display_name": "Python 3 (ipykernel)",
   "language": "python",
   "name": "python3"
  },
  "language_info": {
   "codemirror_mode": {
    "name": "ipython",
    "version": 3
   },
   "file_extension": ".py",
   "mimetype": "text/x-python",
   "name": "python",
   "nbconvert_exporter": "python",
   "pygments_lexer": "ipython3",
   "version": "3.9.10"
  }
 },
 "nbformat": 4,
 "nbformat_minor": 5
}
