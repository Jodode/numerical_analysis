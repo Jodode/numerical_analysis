{
 "cells": [
  {
   "cell_type": "code",
   "execution_count": 2,
   "id": "117022ea",
   "metadata": {},
   "outputs": [],
   "source": [
    "import numpy as np"
   ]
  },
  {
   "cell_type": "code",
   "execution_count": 73,
   "id": "92f43cb2",
   "metadata": {},
   "outputs": [
    {
     "name": "stdout",
     "output_type": "stream",
     "text": [
      "[2, 3, 7]\n"
     ]
    }
   ],
   "source": [
    "def simplify_func(_coef, _roots):\n",
    "    func = np.poly1d(_coef) / (1 if not len(_roots) else np.poly1d(_roots, True))\n",
    "    if isinstance(func, tuple):\n",
    "        func = func[0]\n",
    "    \n",
    "    return func\n",
    "        \n",
    "        \n",
    "def dih(x0, x1, _eps, _coef, _roots, _max_iter):\n",
    "    f = simplify_func(_coef, _roots)\n",
    "    x2 = np.mean([x0, x1])\n",
    "    i = 0\n",
    "    \n",
    "    while abs(x0 - x1) > _eps and i < _max_iter:\n",
    "        \n",
    "        if f(x0) * f(x1) > 0:\n",
    "            return None\n",
    "        \n",
    "        if f(x2) * f(x1) < 0:\n",
    "            x0 = x2\n",
    "        elif f(x2) * f(x0) < 0:\n",
    "            x1 = x2\n",
    "        elif np.isclose(f(x2), 0., atol=_eps):\n",
    "            return x2\n",
    "        \n",
    "        i += 1\n",
    "        x2 = np.mean([x0, x1])\n",
    "        \n",
    "    return x2\n",
    "\n",
    "def approximate_interval(_coef, _radius):\n",
    "    interval = np.random.randint(-_radius, _radius, 2).tolist()\n",
    "    \n",
    "    return np.min(interval), np.max(interval)\n",
    "\n",
    "def find_roots(_coef, _radius=1e1, eps=1e-2, max_iter=1e4):\n",
    "    def find_one_root(_coef, _eps, _roots):\n",
    "        x0, x1 = approximate_interval(_coef, _radius)\n",
    "        root = dih(x0, x1, _eps, _coef, _roots, max_iter)\n",
    "        return root\n",
    "    \n",
    "    coef = _coef\n",
    "    _roots = []\n",
    "\n",
    "    root = find_one_root(coef, eps, _roots)\n",
    "\n",
    "    for _ in range(int(max_iter)):\n",
    "        if root is None:\n",
    "            root = find_one_root(coef, eps, _roots)\n",
    "            continue\n",
    "            \n",
    "        if np.isclose(simplify_func(coef, [])(round(root)), 0., atol=eps):\n",
    "            _roots += [round(root)]\n",
    "        \n",
    "        coef = simplify_func(_coef, _roots).coeffs\n",
    "        root = find_one_root(coef, eps, _roots)\n",
    "        \n",
    "    return list(set(_roots))\n",
    "    "
   ]
  },
  {
   "cell_type": "code",
   "execution_count": 83,
   "id": "95a537bd",
   "metadata": {},
   "outputs": [],
   "source": [
    "def approximate_point(_offset, _radius=1e4):\n",
    "    return _offset + np.random.randint(-_radius, _radius, 1)[0]\n",
    "\n",
    "def simple_iter(_start, _offset, _eps, _max_iter=1e4):\n",
    "    step = lambda x: (_offset / x + x) / 2\n",
    "    f = lambda x: x - _offset ** 0.5\n",
    "    \n",
    "    x_p = _start\n",
    "\n",
    "    for _ in range(_max_iter):\n",
    "        if f(x_p) <= _eps:\n",
    "            return x_p\n",
    "        x_p = step(x_p)\n",
    "\n",
    "    return x_p if np.isclose(func(x_prev), 0., atol=_eps) else None"
   ]
  },
  {
   "cell_type": "markdown",
   "id": "2ad9e7af",
   "metadata": {},
   "source": [
    "Пример использования с полиномом $$(x-2)(x-3)^2(x-7) = x^{4} - 15x^{3} +77x^{2} - 165x + 126$$"
   ]
  },
  {
   "cell_type": "code",
   "execution_count": 80,
   "id": "8e65817e",
   "metadata": {},
   "outputs": [
    {
     "name": "stdout",
     "output_type": "stream",
     "text": [
      "Проблема №1: [2, 3, 7]\n"
     ]
    }
   ],
   "source": [
    "print(f\"Проблема №1: {find_roots([1, -15, 77, -165, 126], _radius=1e1, eps=1e-2)}\")"
   ]
  },
  {
   "cell_type": "code",
   "execution_count": 84,
   "id": "33f4c3e5",
   "metadata": {},
   "outputs": [
    {
     "ename": "TypeError",
     "evalue": "'float' object cannot be interpreted as an integer",
     "output_type": "error",
     "traceback": [
      "\u001b[0;31m---------------------------------------------------------------------------\u001b[0m",
      "\u001b[0;31mTypeError\u001b[0m                                 Traceback (most recent call last)",
      "Cell \u001b[0;32mIn [84], line 2\u001b[0m\n\u001b[1;32m      1\u001b[0m a \u001b[38;5;241m=\u001b[39m \u001b[38;5;241m5\u001b[39m\n\u001b[0;32m----> 2\u001b[0m \u001b[38;5;28mprint\u001b[39m(\u001b[38;5;124mf\u001b[39m\u001b[38;5;124m\"\u001b[39m\u001b[38;5;124mПроблема №2: \u001b[39m\u001b[38;5;132;01m{\u001b[39;00msimple_iter(approximate_point(a, _radius\u001b[38;5;241m=\u001b[39ma\u001b[38;5;241m/\u001b[39m\u001b[38;5;241m2\u001b[39m), a, \u001b[38;5;241m1e-2\u001b[39m)\u001b[38;5;132;01m}\u001b[39;00m\u001b[38;5;124m\"\u001b[39m)\n",
      "Cell \u001b[0;32mIn [83], line 10\u001b[0m, in \u001b[0;36msimple_iter\u001b[0;34m(_start, _offset, _eps, _max_iter)\u001b[0m\n\u001b[1;32m      6\u001b[0m f \u001b[38;5;241m=\u001b[39m \u001b[38;5;28;01mlambda\u001b[39;00m x: x \u001b[38;5;241m-\u001b[39m _offset \u001b[38;5;241m*\u001b[39m\u001b[38;5;241m*\u001b[39m \u001b[38;5;241m0.5\u001b[39m\n\u001b[1;32m      8\u001b[0m x_p \u001b[38;5;241m=\u001b[39m _start\n\u001b[0;32m---> 10\u001b[0m \u001b[38;5;28;01mfor\u001b[39;00m _ \u001b[38;5;129;01min\u001b[39;00m \u001b[38;5;28;43mrange\u001b[39;49m\u001b[43m(\u001b[49m\u001b[43m_max_iter\u001b[49m\u001b[43m)\u001b[49m:\n\u001b[1;32m     11\u001b[0m     \u001b[38;5;28;01mif\u001b[39;00m f(x_p) \u001b[38;5;241m<\u001b[39m\u001b[38;5;241m=\u001b[39m _eps:\n\u001b[1;32m     12\u001b[0m         \u001b[38;5;28;01mreturn\u001b[39;00m x_p\n",
      "\u001b[0;31mTypeError\u001b[0m: 'float' object cannot be interpreted as an integer"
     ]
    }
   ],
   "source": [
    "a = 5\n",
    "print(f\"Проблема №2: {simple_iter(approximate_point(a, _radius=a/2), a, 1e)}\")"
   ]
  },
  {
   "cell_type": "code",
   "execution_count": null,
   "id": "59f840a3",
   "metadata": {},
   "outputs": [],
   "source": []
  }
 ],
 "metadata": {
  "kernelspec": {
   "display_name": "Python 3 (ipykernel)",
   "language": "python",
   "name": "python3"
  },
  "language_info": {
   "codemirror_mode": {
    "name": "ipython",
    "version": 3
   },
   "file_extension": ".py",
   "mimetype": "text/x-python",
   "name": "python",
   "nbconvert_exporter": "python",
   "pygments_lexer": "ipython3",
   "version": "3.9.10"
  }
 },
 "nbformat": 4,
 "nbformat_minor": 5
}
