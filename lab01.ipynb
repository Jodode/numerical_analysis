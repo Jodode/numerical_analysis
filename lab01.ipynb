{
 "cells": [
  {
   "cell_type": "code",
   "execution_count": 2,
   "id": "117022ea",
   "metadata": {},
   "outputs": [],
   "source": [
    "import numpy as np"
   ]
  },
  {
   "cell_type": "code",
   "execution_count": 88,
   "id": "92f43cb2",
   "metadata": {},
   "outputs": [],
   "source": [
    "def simplify_func(_coef, _roots):\n",
    "    func = np.poly1d(_coef) / (1 if not len(_roots) else np.poly1d(_roots, True))\n",
    "    if isinstance(func, tuple):\n",
    "        func = func[0]\n",
    "    \n",
    "    return func\n",
    "        \n",
    "        \n",
    "def dih(x0, x1, _eps, _coef, _roots, _max_iter):\n",
    "    f = simplify_func(_coef, _roots)\n",
    "    x2 = np.mean([x0, x1])\n",
    "    i = 0\n",
    "    \n",
    "    while abs(x0 - x1) > _eps and i < _max_iter:\n",
    "        \n",
    "        if f(x0) * f(x1) > 0:\n",
    "            return None\n",
    "        \n",
    "        if f(x2) * f(x1) < 0:\n",
    "            x0 = x2\n",
    "        elif f(x2) * f(x0) < 0:\n",
    "            x1 = x2\n",
    "        elif np.isclose(f(x2), 0., atol=_eps):\n",
    "            return x2\n",
    "        \n",
    "        i += 1\n",
    "        x2 = np.mean([x0, x1])\n",
    "        \n",
    "    return x2\n",
    "\n",
    "def approximate_interval(_coef, _radius):\n",
    "    interval = np.random.randint(-_radius, _radius, 2).tolist()\n",
    "    \n",
    "    return np.min(interval), np.max(interval)\n",
    "\n",
    "def find_roots(_coef, _radius=1e1, eps=1e-2, max_iter=1e4):\n",
    "    def find_one_root(_coef, _eps, _roots):\n",
    "        x0, x1 = approximate_interval(_coef, _radius)\n",
    "        root = dih(x0, x1, _eps, _coef, _roots, max_iter)\n",
    "        return root\n",
    "    \n",
    "    coef = _coef\n",
    "    _roots = []\n",
    "\n",
    "    root = find_one_root(coef, eps, _roots)\n",
    "\n",
    "    for _ in range(int(max_iter)):\n",
    "        if root is None:\n",
    "            root = find_one_root(coef, eps, _roots)\n",
    "            continue\n",
    "            \n",
    "        if np.isclose(simplify_func(coef, [])(round(root)), 0., atol=eps):\n",
    "            _roots += [round(root)]\n",
    "        \n",
    "        coef = simplify_func(_coef, _roots).coeffs\n",
    "        root = find_one_root(coef, eps, _roots)\n",
    "        \n",
    "    return list(set(_roots))\n",
    "    "
   ]
  },
  {
   "cell_type": "code",
   "execution_count": 86,
   "id": "628aaa2c",
   "metadata": {},
   "outputs": [],
   "source": [
    "def approximate_point(_offset, _radius=1e4):\n",
    "    return _offset + np.random.randint(-_radius, _radius, 1)[0]\n",
    "\n",
    "def simple_iter(_start, _offset, _eps, _max_iter=1e4):\n",
    "    step = lambda x: (_offset / x + x) / 2\n",
    "    f = lambda x: x - _offset ** 0.5\n",
    "    \n",
    "    x_p = _start\n",
    "\n",
    "    for _ in range(int(_max_iter)):\n",
    "        if f(x_p) <= _eps:\n",
    "            return x_p\n",
    "        x_p = step(x_p)\n",
    "\n",
    "    return x_p if np.isclose(func(x_prev), 0., atol=_eps) else None"
   ]
  },
  {
   "cell_type": "markdown",
   "id": "5bad3f28",
   "metadata": {},
   "source": [
    "Пример использования с полиномом $$(x-2)(x-3)^2(x-7) = x^{4} - 15x^{3} +77x^{2} - 165x + 126$$"
   ]
  },
  {
   "cell_type": "code",
   "execution_count": 80,
   "id": "8e65817e",
   "metadata": {},
   "outputs": [
    {
     "name": "stdout",
     "output_type": "stream",
     "text": [
      "Проблема №1: [2, 3, 7]\n"
     ]
    }
   ],
   "source": [
    "print(f\"Проблема №1: {find_roots([1, -15, 77, -165, 126], _radius=1e1, eps=1e-2)}\")"
   ]
  },
  {
   "cell_type": "code",
   "execution_count": 87,
   "id": "1675cffc",
   "metadata": {},
   "outputs": [
    {
     "name": "stdout",
     "output_type": "stream",
     "text": [
      "Проблема №2: 2.236084168219426\n"
     ]
    }
   ],
   "source": [
    "a = 5\n",
    "print(f\"Проблема №2: {simple_iter(approximate_point(a, _radius=a/2), a, 1e-3)}\")"
   ]
  },
  {
   "cell_type": "code",
   "execution_count": null,
   "id": "8e54cfd4",
   "metadata": {},
   "outputs": [],
   "source": []
  }
 ],
 "metadata": {
  "kernelspec": {
   "display_name": "Python 3 (ipykernel)",
   "language": "python",
   "name": "python3"
  },
  "language_info": {
   "codemirror_mode": {
    "name": "ipython",
    "version": 3
   },
   "file_extension": ".py",
   "mimetype": "text/x-python",
   "name": "python",
   "nbconvert_exporter": "python",
   "pygments_lexer": "ipython3",
   "version": "3.9.10"
  }
 },
 "nbformat": 4,
 "nbformat_minor": 5
}
