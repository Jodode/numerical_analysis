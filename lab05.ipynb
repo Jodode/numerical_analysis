{
 "cells": [
  {
   "cell_type": "code",
   "execution_count": 1,
   "id": "117488df",
   "metadata": {},
   "outputs": [],
   "source": [
    "import numpy as np"
   ]
  },
  {
   "cell_type": "code",
   "execution_count": 2,
   "id": "22660d31",
   "metadata": {},
   "outputs": [],
   "source": [
    "def gaussMethod(matrix):\n",
    "    for i, row in enumerate(matrix):\n",
    "        a = row[i]\n",
    "        row /= a\n",
    "        for lower_row in matrix[i+1:]:\n",
    "            lower_row -= lower_row[i] * row\n",
    "\n",
    "    for i in range(len(matrix)-1, 0, -1):\n",
    "        row = matrix[i]\n",
    "        for upper_row in matrix[:i]:\n",
    "            upper_row[-1] -= upper_row[i] * row[-1]\n",
    "            upper_row[i] = 0\n",
    "\n",
    "    return matrix[:, -1]"
   ]
  },
  {
   "cell_type": "code",
   "execution_count": 3,
   "id": "5cb20e0a",
   "metadata": {},
   "outputs": [],
   "source": [
    "def global_method(X, Y, x):\n",
    "    n = len(X)\n",
    "    W = np.zeros((n, n))\n",
    "    for i in range(n):\n",
    "        for j in range(n):\n",
    "            W[i][j] = X[i] ** j\n",
    "            \n",
    "    W = np.array(W, dtype=float)\n",
    "    Yt = np.transpose(np.array(Y))\n",
    "    W = np.c_[W, Yt]\n",
    "    \n",
    "    A = gaussMethod(W)\n",
    "    value = 0\n",
    "    \n",
    "    for i in range(len(A)):\n",
    "        value = value + (A[i] * (x ** i))\n",
    "    \n",
    "    return value"
   ]
  },
  {
   "cell_type": "code",
   "execution_count": 4,
   "id": "6ad70b26",
   "metadata": {},
   "outputs": [],
   "source": [
    "def piecewise_method(X, Y, x, i):\n",
    "    p1i = (x - X[i+1]) / (X[i] - X[i+1])\n",
    "    p1i1 = (x - X[i]) / (X[i+1] - X[i])\n",
    "    \n",
    "    return p1i * Y[i] + p1i1 * Y[i+1]"
   ]
  },
  {
   "cell_type": "code",
   "execution_count": 5,
   "id": "5938694d",
   "metadata": {},
   "outputs": [],
   "source": [
    "def piecewise_parabolic_method(X, Y, x, ti):\n",
    "    \n",
    "    l = [{}, {}]\n",
    "    for index, i in enumerate(range(ti-1, ti+1)):\n",
    "        p1i = (x - X[i+1]) / (X[i] - X[i+1])\n",
    "        p2i = p1i * (x - X[i+2]) / (X[i] - X[i+2])\n",
    "\n",
    "        p1i1 = (x - X[i]) / (X[i+1] - X[i])\n",
    "        p2i1 = p1i1 * (x - X[i+2]) / (X[i+1] - X[i+2])\n",
    "\n",
    "        p2i2 = (x - X[i]) * (x - X[i+1]) / ((X[i+2] - X[i]) * (X[i+2] - X[i+1]))\n",
    "        l[index] = {\"p1i\": p1i, \"p2i\": p2i, \"p1i1\": p1i1, \"p2i1\": p2i1, \"p2i2\": p2i2}\n",
    "\n",
    "    \n",
    "    l21 = l[0][\"p2i\"] * Y[ti-1] + l[0][\"p2i1\"] * Y[ti] + l[0][\"p2i2\"] * Y[ti+1] \n",
    "    l22 = l[1][\"p2i\"] * Y[ti] + l[1][\"p2i1\"] * Y[ti+1] + l[1][\"p2i2\"] * Y[ti+2]\n",
    "    \n",
    "    return (l22 + l21) / 2"
   ]
  },
  {
   "cell_type": "markdown",
   "id": "bb1d7984",
   "metadata": {},
   "source": [
    "## Примеры\n",
    "\n",
    "X = [-1, 0, 1, 3, 4]\n",
    "\n",
    "Y = [-1, 0, 1, 27, 64]\n",
    "\n",
    "x = 2\n",
    "\n",
    "i = 2"
   ]
  },
  {
   "cell_type": "code",
   "execution_count": 6,
   "id": "4e686012",
   "metadata": {},
   "outputs": [],
   "source": [
    "X = [-1, 0, 1, 3, 4]\n",
    "Y = [-1, 0, 1, 27, 64]\n",
    "x = 2\n",
    "i = 2"
   ]
  },
  {
   "cell_type": "code",
   "execution_count": 7,
   "id": "d0258e59",
   "metadata": {},
   "outputs": [
    {
     "name": "stdout",
     "output_type": "stream",
     "text": [
      "Глобальный способ интерполяции: 8.0\n",
      "Кусочно-линейный способ интерполяции: 14.0\n",
      "Кусочно-параболический способ интерполяции: 8.0\n"
     ]
    }
   ],
   "source": [
    "ans = global_method(X, Y, x)\n",
    "print(f\"Глобальный способ интерполяции: {ans}\")\n",
    "ans = piecewise_method(X, Y, x, i)\n",
    "print(f\"Кусочно-линейный способ интерполяции: {ans}\")\n",
    "ans = piecewise_parabolic_method(X, Y, x, i)\n",
    "print(f\"Кусочно-параболический способ интерполяции: {ans}\")"
   ]
  },
  {
   "cell_type": "code",
   "execution_count": null,
   "id": "5ee61a51",
   "metadata": {},
   "outputs": [],
   "source": []
  },
  {
   "cell_type": "code",
   "execution_count": null,
   "id": "a4cc62d1",
   "metadata": {},
   "outputs": [],
   "source": []
  }
 ],
 "metadata": {
  "kernelspec": {
   "display_name": "Python 3 (ipykernel)",
   "language": "python",
   "name": "python3"
  },
  "language_info": {
   "codemirror_mode": {
    "name": "ipython",
    "version": 3
   },
   "file_extension": ".py",
   "mimetype": "text/x-python",
   "name": "python",
   "nbconvert_exporter": "python",
   "pygments_lexer": "ipython3",
   "version": "3.9.10"
  }
 },
 "nbformat": 4,
 "nbformat_minor": 5
}
