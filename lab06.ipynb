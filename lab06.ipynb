{
 "cells": [
  {
   "cell_type": "code",
   "execution_count": 1,
   "id": "693a4e93",
   "metadata": {},
   "outputs": [],
   "source": [
    "import numpy as np"
   ]
  },
  {
   "cell_type": "code",
   "execution_count": 2,
   "id": "36cb6e5a",
   "metadata": {},
   "outputs": [],
   "source": [
    "def newton_intepolation(X, Y, number):\n",
    "    if number == 0:\n",
    "        f_delta_0 = [(Y[i+1] - Y[i]) / (X[i+1] - X[i]) for i in range(len(X)-1)]\n",
    "        f_delta_1 = [(f_delta_0[i+1] - f_delta_0[i]) / (X[i+2] - X[i]) for i in range(0, len(X)-2)]\n",
    "        f_delta_2 = [(f_delta_1[-1] - f_delta_1[0]) / (X[-1] - X[0])]\n",
    "        \n",
    "        \n",
    "        N3 = f_delta_2[0] * np.poly1d(X[:len(X)-1], True) + \\\n",
    "                f_delta_1[0] * np.poly1d(X[:len(X)-2], True) + \\\n",
    "                    f_delta_0[0] * np.poly1d(X[:len(X)-3], True) + \\\n",
    "                        Y[0]\n",
    "        return N3\n",
    "    \n",
    "    else:\n",
    "        f_delta_0 = [Y[i+1] - Y[i] for i in range(len(Y)-1)]\n",
    "        f_delta_1 = [f_delta_0[i+1] - f_delta_0[i] for i in range(len(Y)-2)]        \n",
    "        f_delta_2 = [f_delta_1[i+1] - f_delta_1[i] for i in range(len(Y)-3)]\n",
    "        \n",
    "        \n",
    "        h = X[1] - X[0]\n",
    "        \n",
    "        if number == 1:\n",
    "            coeffs = [f_delta_0[0], f_delta_1[0], f_delta_2[0]]\n",
    "            \n",
    "            poly = np.poly1d([1/h, -X[0]/h])\n",
    "            N3_1 = Y[0] + poly * coeffs[0]\n",
    "            \n",
    "            for i in range(1, len(Y)-1):                \n",
    "                poly *= np.poly1d([1/h, -X[0]/h - i])\n",
    "                N3_1 += (coeffs[i] / np.math.factorial(i+1) * poly)\n",
    "            \n",
    "            return N3_1\n",
    "        if number == 2:\n",
    "            coeffs = [f_delta_0[-1], f_delta_1[-1], f_delta_2[-1]]\n",
    "\n",
    "            poly = np.poly1d([1/h, -X[-1]/h])\n",
    "            N3_2 = Y[-1] + poly * coeffs[0]\n",
    "            \n",
    "            for i in range(1, len(Y)-1):                \n",
    "                poly *= np.poly1d([1/h, -X[-1]/h + i])\n",
    "                N3_2 += (coeffs[i] / np.math.factorial(i+1) * poly)\n",
    "            \n",
    "            return N3_2"
   ]
  },
  {
   "cell_type": "markdown",
   "id": "130f49d4",
   "metadata": {},
   "source": [
    "## Пример\n",
    "X = [2, 3, 4, 5]\n",
    "\n",
    "Y = [7, 5, 8, 7]"
   ]
  },
  {
   "cell_type": "code",
   "execution_count": 3,
   "id": "7986a89a",
   "metadata": {},
   "outputs": [
    {
     "name": "stdout",
     "output_type": "stream",
     "text": [
      "N3: \n",
      "      3      2\n",
      "-1.5 x + 16 x - 53.5 x + 62\n",
      "\n",
      "\n",
      "N3_1: \n",
      "      3      2\n",
      "-1.5 x + 16 x - 53.5 x + 62\n",
      "\n",
      "\n",
      "N3_2: \n",
      "      3      2\n",
      "-1.5 x + 16 x - 53.5 x + 62\n"
     ]
    }
   ],
   "source": [
    "print(f\"N3: \\n{newton_intepolation([2, 3, 4, 5], [7, 5, 8, 7], number=0)}\\n\")\n",
    "print(f\"\\nN3_1: \\n{newton_intepolation([2, 3, 4, 5], [7, 5, 8, 7], number=1)}\\n\")\n",
    "print(f\"\\nN3_2: \\n{newton_intepolation([2, 3, 4, 5], [7, 5, 8, 7], number=2)}\")"
   ]
  },
  {
   "cell_type": "code",
   "execution_count": null,
   "id": "76182c32",
   "metadata": {},
   "outputs": [],
   "source": []
  }
 ],
 "metadata": {
  "kernelspec": {
   "display_name": "Python 3 (ipykernel)",
   "language": "python",
   "name": "python3"
  },
  "language_info": {
   "codemirror_mode": {
    "name": "ipython",
    "version": 3
   },
   "file_extension": ".py",
   "mimetype": "text/x-python",
   "name": "python",
   "nbconvert_exporter": "python",
   "pygments_lexer": "ipython3",
   "version": "3.9.10"
  }
 },
 "nbformat": 4,
 "nbformat_minor": 5
}
